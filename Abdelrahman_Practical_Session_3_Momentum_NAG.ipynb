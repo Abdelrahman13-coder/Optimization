{
  "nbformat": 4,
  "nbformat_minor": 0,
  "metadata": {
    "colab": {
      "name": "Abdelrahman_Practical Session 3 Momentum - NAG",
      "provenance": []
    },
    "kernelspec": {
      "name": "python3",
      "display_name": "Python 3"
    },
    "language_info": {
      "name": "python"
    }
  },
  "cells": [
    {
      "cell_type": "markdown",
      "source": [
        "###Imports\n",
        "\n",
        "\n"
      ],
      "metadata": {
        "id": "5bYVUmJl4OB5"
      }
    },
    {
      "cell_type": "code",
      "execution_count": 1,
      "metadata": {
        "id": "m6oPf4rWEKBc"
      },
      "outputs": [],
      "source": [
        "import numpy as np\n",
        "import matplotlib.pyplot as plt\n",
        "from sklearn.metrics import r2_score\n",
        "from sklearn.utils import shuffle\n",
        "from sklearn import utils\n",
        "%matplotlib inline"
      ]
    },
    {
      "cell_type": "code",
      "source": [
        "RegData  = np.genfromtxt(\"RegData.csv\",delimiter = \",\")\n",
        "x_RegPoints = RegData[:,0]\n",
        "y_RegPoints = RegData[:,1]"
      ],
      "metadata": {
        "id": "NoCGunCJITzd"
      },
      "execution_count": 2,
      "outputs": []
    },
    {
      "cell_type": "markdown",
      "source": [
        "To have a dataset or set of data points, the student must generate a pair of arrays X and y with the values in X equally distributed between 0 and 20 and the values in y such that: yi = a*xi + b (and a = -2, b = 1)"
      ],
      "metadata": {
        "id": "Pzpm5jjSI8Im"
      }
    },
    {
      "cell_type": "code",
      "source": [
        "x_points = np.linspace(0,20)\n",
        "y_points = -2*x_points +1"
      ],
      "metadata": {
        "id": "MGMY_xxhIf-F"
      },
      "execution_count": 3,
      "outputs": []
    },
    {
      "cell_type": "markdown",
      "source": [
        "## Momentum Gradient descent ##\n",
        ">Momemtum solves the **vanishing gradient** problem and relies on history to do so\n",
        "\n",
        ">**Disadvange**: Oscillates around the minimum valley making \"U-turns\" near the minima (however it converges faseter than vanilla GD)"
      ],
      "metadata": {
        "id": "riW4CkwWItlU"
      }
    },
    {
      "cell_type": "code",
      "source": [
        "def momentum_BatchGD(x,y,learning_rate = 0.0001,Epoch = 1000,gamma = 0.9):\n",
        "  theta0,theta1 ,vt0,vt1= 0,0,0,0\n",
        "  m = len(y)\n",
        "  costs,thetas0,thetas1 ,hypothesis= [],[],[],[]\n",
        "  for i in range(Epoch):\n",
        "    #calculate hypothesis\n",
        "    y_hat = theta0 + theta1*x\n",
        "    hypothesis.append(y_hat)\n",
        "    #calculate error\n",
        "    e = y_hat-y\n",
        "    #calculate cost function\n",
        "    cost = np.sum(np.square(e)) /(2*m)\n",
        "    costs.append(cost)\n",
        "    #calculate gradient\n",
        "    gradient0 = np.sum(e)/m\n",
        "    gradient1 = np.dot(e.T,x)/m\n",
        "    #update thetas with momentum\n",
        "    vt0 = gamma * vt0 + learning_rate * gradient0\n",
        "    vt1 = gamma * vt1 + learning_rate * gradient1\n",
        "    theta0 = theta0 - vt0\n",
        "    theta1 = theta1 - vt1\n",
        "    thetas0.append(theta0)\n",
        "    thetas1.append(theta1)\n",
        "    if(i>0 and np.abs(costs[i]-costs[i-1])<0.001):\n",
        "      print(\"stopped at iteration {}\".format(i))\n",
        "      break\n",
        "\n",
        "  return costs,thetas0,thetas1,hypothesis"
      ],
      "metadata": {
        "id": "QSA6Bq-lIgAw"
      },
      "execution_count": 4,
      "outputs": []
    },
    {
      "cell_type": "code",
      "source": [
        "mt_costs,mt_thetas0,mt_thetas1, mt_hypothesis= momentum_BatchGD(x_RegPoints,y_RegPoints)"
      ],
      "metadata": {
        "colab": {
          "base_uri": "https://localhost:8080/"
        },
        "id": "LWtq6i2S7x8y",
        "outputId": "0bae271d-4b94-43da-e9a4-3d8296ddd0b1"
      },
      "execution_count": 5,
      "outputs": [
        {
          "output_type": "stream",
          "name": "stdout",
          "text": [
            "stopped at iteration 64\n"
          ]
        }
      ]
    },
    {
      "cell_type": "markdown",
      "source": [
        "Cost function vs Epoch \n",
        "\n",
        "\n",
        "\n"
      ],
      "metadata": {
        "id": "Pv6bViD-8H84"
      }
    },
    {
      "cell_type": "code",
      "source": [
        "plt.plot(mt_costs)\n",
        "plt.xlabel(\"Iterations\")\n",
        "plt.ylabel(\"cost function\")\n",
        "plt.title(\"Cost function vs Epoch\");"
      ],
      "metadata": {
        "colab": {
          "base_uri": "https://localhost:8080/",
          "height": 295
        },
        "id": "bdeJH71p8Cf0",
        "outputId": "5dadf9af-e10f-42ee-92e3-6beaba9d489e"
      },
      "execution_count": 6,
      "outputs": [
        {
          "output_type": "display_data",
          "data": {
            "image/png": "[encoded data removed]",
            "text/plain": [
              "<Figure size 432x288 with 1 Axes>"
            ]
          },
          "metadata": {
            "needs_background": "light"
          }
        }
      ]
    },
    {
      "cell_type": "markdown",
      "source": [
        "Cost function vs theta0 \n",
        "\n",
        "\n",
        "\n"
      ],
      "metadata": {
        "id": "i8caJf__9gwA"
      }
    },
    {
      "cell_type": "code",
      "source": [
        "plt.plot(mt_thetas0,mt_costs);\n",
        "plt.xlabel(\"Theta0\")\n",
        "plt.ylabel(\"cost function\")\n",
        "plt.title(\"Cost function vs theta0\");"
      ],
      "metadata": {
        "colab": {
          "base_uri": "https://localhost:8080/",
          "height": 295
        },
        "id": "oLltRSAU9g93",
        "outputId": "d075d9e4-51ac-470f-d0c6-6ccaa5ade73d"
      },
      "execution_count": 7,
      "outputs": [
        {
          "output_type": "display_data",
          "data": {
            "image/png": "[encoded data removed]",
            "text/plain": [
              "<Figure size 432x288 with 1 Axes>"
            ]
          },
          "metadata": {
            "needs_background": "light"
          }
        }
      ]
    },
    {
      "cell_type": "markdown",
      "source": [
        "Cost function vs theta1 "
      ],
      "metadata": {
        "id": "1lW-CzIq9hLS"
      }
    },
    {
      "cell_type": "code",
      "source": [
        "plt.plot(mt_thetas1,mt_costs)\n",
        "plt.xlabel(\"Theta1\")\n",
        "plt.ylabel(\"cost function\")\n",
        "plt.title(\"Cost function vs theta1\");"
      ],
      "metadata": {
        "colab": {
          "base_uri": "https://localhost:8080/",
          "height": 295
        },
        "id": "AatBWQ5f9hZy",
        "outputId": "ed835eea-341a-41b7-bbfe-c83650b51825"
      },
      "execution_count": 8,
      "outputs": [
        {
          "output_type": "display_data",
          "data": {
            "image/png": "[encoded data removed]",
            "text/plain": [
              "<Figure size 432x288 with 1 Axes>"
            ]
          },
          "metadata": {
            "needs_background": "light"
          }
        }
      ]
    },
    {
      "cell_type": "markdown",
      "source": [
        "#### Model accuracy ####"
      ],
      "metadata": {
        "id": "VGY32YWx8eBV"
      }
    },
    {
      "cell_type": "code",
      "source": [
        "r2_score(y_RegPoints,mt_thetas0[-1]+mt_thetas1[-1]*x_RegPoints)"
      ],
      "metadata": {
        "colab": {
          "base_uri": "https://localhost:8080/"
        },
        "id": "fswvznAR-Oth",
        "outputId": "f8a37f59-7cfe-4ab2-9498-ef8ec8af86f2"
      },
      "execution_count": 9,
      "outputs": [
        {
          "output_type": "execute_result",
          "data": {
            "text/plain": [
              "0.7461284125806267"
            ]
          },
          "metadata": {},
          "execution_count": 9
        }
      ]
    },
    {
      "cell_type": "markdown",
      "source": [
        "## NAG ##\n",
        ">**NAG** \"Nesterov accelerated GD\" is used to solve the overshooting problem done tby the momentum\n",
        "\n",
        ">next v(t) in NAG is smaller than momentum"
      ],
      "metadata": {
        "id": "BHqHtd3nA6dw"
      }
    },
    {
      "cell_type": "code",
      "source": [
        "def NAG_batchGD(x,y,learning_rate= 0.001,Epoch = 1000 , gamma = 0.9):\n",
        "  theta0,theta1,vt0,vt1,theta0_temp,theta1_temp = 0,0,0,0,0,0\n",
        "  m = len(y)\n",
        "  costs,thetas0,thetas1 = [],[],[]\n",
        "  for i in range(Epoch):\n",
        "    #calculate the hypothesis\n",
        "    y_hat = theta0 + theta1 * x\n",
        "    #calculate error\n",
        "    e = y_hat - y\n",
        "    #calculate cost\n",
        "    cost = np.sum(e**2)/(2*m)\n",
        "    costs.append(cost)\n",
        "    #update theta temp \n",
        "    theta0_temp = theta0 - gamma * vt0\n",
        "    theta1_temp = theta1 - gamma * vt1\n",
        "    #update hypothesis temp\n",
        "    hypothesis_temp = theta0_temp + theta1_temp *x\n",
        "    #update error temp\n",
        "    e_temp = hypothesis_temp - y\n",
        "    #update gradients\n",
        "    gradient_temp0 = (np.sum(e_temp)) / m \n",
        "    gradient_temp1 = (np.dot(e_temp.T,x))/m\n",
        "    #update thetas\n",
        "    theta0 = theta0_temp - learning_rate * gradient_temp0\n",
        "    theta1 = theta1_temp - learning_rate * gradient_temp1\n",
        "    thetas0.append(theta0)\n",
        "    thetas1.append(theta1)\n",
        "    #update v's\n",
        "    vt0 = gamma * vt0 + learning_rate * gradient_temp0\n",
        "    vt1 = gamma * vt1 + learning_rate * gradient_temp1\n",
        "    if(i>0 and np.abs(costs[i]-costs[i-1])<0.001):\n",
        "      print(\"stopped at iteration {}\".format(i))\n",
        "      break\n",
        "  return costs, thetas0, thetas1"
      ],
      "metadata": {
        "id": "e67NJG0gAMV7"
      },
      "execution_count": 10,
      "outputs": []
    },
    {
      "cell_type": "code",
      "source": [
        "nag_costs,nag_thetas0, nag_thetas1 = NAG_batchGD(x_RegPoints,y_RegPoints)"
      ],
      "metadata": {
        "colab": {
          "base_uri": "https://localhost:8080/"
        },
        "id": "5YvZ4jW5KX4t",
        "outputId": "5a49b670-6cc7-447f-fc32-bb5fceafe92b"
      },
      "execution_count": 11,
      "outputs": [
        {
          "output_type": "stream",
          "name": "stdout",
          "text": [
            "stopped at iteration 43\n"
          ]
        }
      ]
    },
    {
      "cell_type": "markdown",
      "source": [
        "\n",
        "Cost function vs Epoch\n"
      ],
      "metadata": {
        "id": "dwGH1mH3LA3E"
      }
    },
    {
      "cell_type": "code",
      "source": [
        "plt.plot(nag_costs)\n",
        "plt.xlabel(\"Iterations\")\n",
        "plt.ylabel(\"cost function\")\n",
        "plt.title(\"Cost function vs Epoch\");"
      ],
      "metadata": {
        "colab": {
          "base_uri": "https://localhost:8080/",
          "height": 295
        },
        "id": "UwFFb0-5KmXM",
        "outputId": "81c6af11-ca43-4a95-a1bc-08cf12192c8d"
      },
      "execution_count": 12,
      "outputs": [
        {
          "output_type": "display_data",
          "data": {
            "image/png": "[encoded data removed]",
            "text/plain": [
              "<Figure size 432x288 with 1 Axes>"
            ]
          },
          "metadata": {
            "needs_background": "light"
          }
        }
      ]
    },
    {
      "cell_type": "markdown",
      "source": [
        "Cost function vs theta0 "
      ],
      "metadata": {
        "id": "oIOTzNBKLJOM"
      }
    },
    {
      "cell_type": "code",
      "source": [
        "plt.plot(nag_thetas0,nag_costs);\n",
        "plt.xlabel(\"Theta0\");\n",
        "plt.ylabel(\"cost function\");\n",
        "plt.title(\"Cost function vs theta0\");"
      ],
      "metadata": {
        "colab": {
          "base_uri": "https://localhost:8080/",
          "height": 295
        },
        "id": "yG68YxGNKqm8",
        "outputId": "615d22b6-705e-4f5c-d3b1-3ebab76d9caa"
      },
      "execution_count": 13,
      "outputs": [
        {
          "output_type": "display_data",
          "data": {
            "image/png": "[encoded data removed]",
            "text/plain": [
              "<Figure size 432x288 with 1 Axes>"
            ]
          },
          "metadata": {
            "needs_background": "light"
          }
        }
      ]
    },
    {
      "cell_type": "markdown",
      "source": [
        "\n",
        "Cost function vs theta1 ##\n"
      ],
      "metadata": {
        "id": "7CTFAH2tLSfs"
      }
    },
    {
      "cell_type": "code",
      "source": [
        "plt.plot(nag_thetas1,nag_costs)\n",
        "plt.xlabel(\"Theta1\")\n",
        "plt.ylabel(\"cost function\")\n",
        "plt.title(\"Cost function vs theta1\");"
      ],
      "metadata": {
        "colab": {
          "base_uri": "https://localhost:8080/",
          "height": 295
        },
        "id": "hs9v6ZWfLSlR",
        "outputId": "fdb32d9f-26b0-4538-ac84-12ee813475b9"
      },
      "execution_count": 14,
      "outputs": [
        {
          "output_type": "display_data",
          "data": {
            "image/png": "[encoded data removed]",
            "text/plain": [
              "<Figure size 432x288 with 1 Axes>"
            ]
          },
          "metadata": {
            "needs_background": "light"
          }
        }
      ]
    },
    {
      "cell_type": "markdown",
      "source": [
        "Model accuracy "
      ],
      "metadata": {
        "id": "bwFIouOSLeeZ"
      }
    },
    {
      "cell_type": "code",
      "source": [
        "r2_score(y_RegPoints, nag_thetas0[-1]+ nag_thetas1[-1]*x_RegPoints)"
      ],
      "metadata": {
        "colab": {
          "base_uri": "https://localhost:8080/"
        },
        "id": "3jDN3P0wLelZ",
        "outputId": "e80e9e40-f516-4351-aec9-9e089f36fff5"
      },
      "execution_count": 15,
      "outputs": [
        {
          "output_type": "execute_result",
          "data": {
            "text/plain": [
              "0.7463380622828757"
            ]
          },
          "metadata": {},
          "execution_count": 15
        }
      ]
    }
  ]
}