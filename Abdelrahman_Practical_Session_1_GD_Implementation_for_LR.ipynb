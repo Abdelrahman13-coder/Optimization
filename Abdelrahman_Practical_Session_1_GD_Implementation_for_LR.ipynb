{
  "nbformat": 4,
  "nbformat_minor": 0,
  "metadata": {
    "colab": {
      "name": "Abdelrahman_Practical Session 1 GD Implementation for LR",
      "provenance": []
    },
    "kernelspec": {
      "name": "python3",
      "display_name": "Python 3"
    },
    "language_info": {
      "name": "python"
    }
  },
  "cells": [
    {
      "cell_type": "code",
      "execution_count": null,
      "metadata": {
        "id": "q4353Ag8HHpH"
      },
      "outputs": [],
      "source": [
        "import numpy as np\n",
        "import matplotlib.pyplot as plt\n",
        "from sklearn.metrics import r2_score\n",
        "from sklearn.utils import shuffle\n",
        "from sklearn import utils\n",
        "%matplotlib inline"
      ]
    },
    {
      "cell_type": "markdown",
      "source": [
        "## Load Data ##\n"
      ],
      "metadata": {
        "id": "98YKnqezH1cU"
      }
    },
    {
      "cell_type": "code",
      "source": [
        "RegData  = np.genfromtxt(\"RegData.csv\",delimiter = \",\")\n",
        "x_RegPoints = RegData[:,0]\n",
        "y_RegPoints = RegData[:,1]"
      ],
      "metadata": {
        "id": "L_7h4PhbHvYs"
      },
      "execution_count": null,
      "outputs": []
    },
    {
      "cell_type": "markdown",
      "source": [
        "To have a dataset or set of data points, the student must generate a pair of arrays X and y with the values in X equally distributed between 0 and 20 and the values in y such that: yi = a*xi + b (and a = -2, b = 1)"
      ],
      "metadata": {
        "id": "Q0-YWWSPJtEH"
      }
    },
    {
      "cell_type": "code",
      "source": [
        "x_points = np.linspace(0,20)\n",
        "y_points = -2*x_points +1"
      ],
      "metadata": {
        "id": "7GgXr5XtH2tc"
      },
      "execution_count": null,
      "outputs": []
    },
    {
      "cell_type": "markdown",
      "source": [
        "## Batch Gradient descent single value ##"
      ],
      "metadata": {
        "id": "Ng0YliX_KX1G"
      }
    },
    {
      "cell_type": "code",
      "source": [
        "def gradient_descent(x,y,Epoch = 1000,learning_rate = 0.001):\n",
        "    m = len(y)\n",
        "    costs, thetas0, thetas1 = [],[],[]\n",
        "    # assume theta0 and theta1 = 0\n",
        "    theta0  = theta1 = 0\n",
        "    for i in range(Epoch):\n",
        "        #2.calculate the hypothsis\n",
        "        y_hat = theta0 +theta1*x\n",
        "        #3.calculate error\n",
        "        e = y_hat - y\n",
        "        #4.calculate cost function\n",
        "        cost = np.sum(e**2)/(2*m)\n",
        "        costs.append(cost)\n",
        "        #5.calculate gradients\n",
        "        gradient0 = np.sum(e)/m\n",
        "        gradient1 = np.dot(e.T,x)/m\n",
        "        #6.update thetas\n",
        "        theta0 = theta0 - learning_rate*gradient0\n",
        "        theta1 = theta1 - learning_rate*gradient1\n",
        "        thetas0.append(theta0)\n",
        "        thetas1.append(theta1)\n",
        "        if(i>0 and np.abs(costs[i]-costs[i-1])<0.001):\n",
        "          print(\"stopped at iteration {}\".format(i))\n",
        "          break\n",
        "    return costs , thetas0, thetas1"
      ],
      "metadata": {
        "id": "9LA28VpIKGfK"
      },
      "execution_count": null,
      "outputs": []
    },
    {
      "cell_type": "code",
      "source": [
        "costs,thetas0,thetas1 = gradient_descent(x_RegPoints,y_RegPoints)"
      ],
      "metadata": {
        "colab": {
          "base_uri": "https://localhost:8080/"
        },
        "id": "m1vfhG6mPTjj",
        "outputId": "3e14b296-aa71-4ee8-d778-ac4f91daddf3"
      },
      "execution_count": null,
      "outputs": [
        {
          "output_type": "stream",
          "name": "stdout",
          "text": [
            "stopped at iteration 91\n"
          ]
        }
      ]
    },
    {
      "cell_type": "markdown",
      "source": [
        "## Scatter plot of Epoch vs Cost ##"
      ],
      "metadata": {
        "id": "t5Urx7qTPpsh"
      }
    },
    {
      "cell_type": "code",
      "source": [
        "plt.plot(costs)\n",
        "plt.xlabel(\"Iterations\");\n",
        "plt.ylabel(\"cost function\");\n",
        "plt.title(\"Cost function vs Epoch\");\n"
      ],
      "metadata": {
        "colab": {
          "base_uri": "https://localhost:8080/",
          "height": 295
        },
        "id": "PIaO41CMPkOR",
        "outputId": "95c9dd87-68b9-408e-8c5a-f635fa36cc1f"
      },
      "execution_count": null,
      "outputs": [
        {
          "output_type": "display_data",
          "data": {
            "image/png": "[encoded data removed]",
            "text/plain": [
              "<Figure size 432x288 with 1 Axes>"
            ]
          },
          "metadata": {
            "needs_background": "light"
          }
        }
      ]
    },
    {
      "cell_type": "markdown",
      "source": [
        "## Scatter plot of theta0 vs Cost ##"
      ],
      "metadata": {
        "id": "g7Xh7P_APwzc"
      }
    },
    {
      "cell_type": "code",
      "source": [
        "plt.plot(thetas0,costs);\n",
        "plt.xlabel(\"Theta0\");\n",
        "plt.ylabel(\"cost function\");\n",
        "plt.title(\"Cost function vs theta0\");\n"
      ],
      "metadata": {
        "colab": {
          "base_uri": "https://localhost:8080/",
          "height": 295
        },
        "id": "v5Fh8h-jVnJ5",
        "outputId": "fee2047c-2725-4611-92e1-bd316dd1e6ee"
      },
      "execution_count": null,
      "outputs": [
        {
          "output_type": "display_data",
          "data": {
            "image/png": "[encoded data removed]",
            "text/plain": [
              "<Figure size 432x288 with 1 Axes>"
            ]
          },
          "metadata": {
            "needs_background": "light"
          }
        }
      ]
    },
    {
      "cell_type": "markdown",
      "source": [
        "## Scatter plot of theta1 vs Cost ##"
      ],
      "metadata": {
        "id": "lp8a6FyTQACR"
      }
    },
    {
      "cell_type": "code",
      "source": [
        "plt.plot(thetas1,costs)\n",
        "plt.xlabel(\"Theta1\");\n",
        "plt.ylabel(\"cost function\");\n",
        "plt.title(\"Cost function vs theta1\");"
      ],
      "metadata": {
        "colab": {
          "base_uri": "https://localhost:8080/",
          "height": 295
        },
        "id": "bAR-iF9VXPbv",
        "outputId": "e409d163-486e-4259-dbec-4af9840447db"
      },
      "execution_count": null,
      "outputs": [
        {
          "output_type": "display_data",
          "data": {
            "image/png": "[encoded data removed]",
            "text/plain": [
              "<Figure size 432x288 with 1 Axes>"
            ]
          },
          "metadata": {
            "needs_background": "light"
          }
        }
      ]
    },
    {
      "cell_type": "markdown",
      "source": [
        "## Regression Model ##"
      ],
      "metadata": {
        "id": "ZDmowRhfXP_9"
      }
    },
    {
      "cell_type": "code",
      "source": [
        "plt.scatter( x_RegPoints,y_RegPoints)\n",
        "plt.plot(x_RegPoints, thetas0[-1]+ thetas1[-1]*x_RegPoints,\"g\")\n",
        "plt.xlabel(\"x_points\")\n",
        "plt.ylabel(\"y_points\")\n",
        "plt.title(\"Best prediction\");"
      ],
      "metadata": {
        "colab": {
          "base_uri": "https://localhost:8080/",
          "height": 296
        },
        "id": "52YTs0LIXTPi",
        "outputId": "c2302e06-086f-44ad-d808-ac476f147ea9"
      },
      "execution_count": null,
      "outputs": [
        {
          "output_type": "display_data",
          "data": {
            "image/png": "[encoded data removed]",
            "text/plain": [
              "<Figure size 432x288 with 1 Axes>"
            ]
          },
          "metadata": {
            "needs_background": "light"
          }
        }
      ]
    },
    {
      "cell_type": "markdown",
      "source": [
        "## Model accuracy ##"
      ],
      "metadata": {
        "id": "mx3m7v63aQQr"
      }
    },
    {
      "cell_type": "code",
      "source": [
        "r2_score(y_RegPoints,thetas0[-1]+thetas1[-1]*x_RegPoints)"
      ],
      "metadata": {
        "colab": {
          "base_uri": "https://localhost:8080/"
        },
        "id": "xkX8B5yhaS6M",
        "outputId": "33f121be-4a52-40d6-fff6-1e46da9a7dad"
      },
      "execution_count": null,
      "outputs": [
        {
          "output_type": "execute_result",
          "data": {
            "text/plain": [
              "0.7344190023473358"
            ]
          },
          "metadata": {},
          "execution_count": 92
        }
      ]
    },
    {
      "cell_type": "markdown",
      "source": [
        "## Gradient descent on dataset 2 ##"
      ],
      "metadata": {
        "id": "1KU_woQpameA"
      }
    },
    {
      "cell_type": "code",
      "source": [
        "_costs,_thetas0,_thetas1 = gradient_descent(x_points,y_points)"
      ],
      "metadata": {
        "colab": {
          "base_uri": "https://localhost:8080/"
        },
        "id": "EgMPohwTaeQZ",
        "outputId": "0e60e092-2fd3-4ad7-b3bb-73958fa659f6"
      },
      "execution_count": null,
      "outputs": [
        {
          "output_type": "stream",
          "name": "stdout",
          "text": [
            "stopped at iteration 40\n"
          ]
        }
      ]
    },
    {
      "cell_type": "markdown",
      "source": [
        "## Scatter plot of Epoch vs Cost ##"
      ],
      "metadata": {
        "id": "1pfGIhtgbBLi"
      }
    },
    {
      "cell_type": "code",
      "source": [
        "plt.plot(costs)\n",
        "plt.xlabel(\"Iterations\");\n",
        "plt.ylabel(\"cost function\");\n",
        "plt.title(\"Cost function vs Epoch\");\n"
      ],
      "metadata": {
        "colab": {
          "base_uri": "https://localhost:8080/",
          "height": 295
        },
        "id": "OR4rvNc-ar7w",
        "outputId": "32323d7b-14e4-46b8-bff4-a8deef457571"
      },
      "execution_count": null,
      "outputs": [
        {
          "output_type": "display_data",
          "data": {
            "image/png": "[encoded data removed]",
            "text/plain": [
              "<Figure size 432x288 with 1 Axes>"
            ]
          },
          "metadata": {
            "needs_background": "light"
          }
        }
      ]
    },
    {
      "cell_type": "markdown",
      "source": [
        "## Model accuracy ##"
      ],
      "metadata": {
        "id": "wLHTDb1ZbJaG"
      }
    },
    {
      "cell_type": "code",
      "source": [
        "r2_score(y_points,_thetas0[-1]+_thetas1[-1]*x_points)"
      ],
      "metadata": {
        "colab": {
          "base_uri": "https://localhost:8080/"
        },
        "id": "z2WtX3-UbKfZ",
        "outputId": "39b1b214-0b5c-44f3-e5fd-dc59d6f511b4"
      },
      "execution_count": null,
      "outputs": [
        {
          "output_type": "execute_result",
          "data": {
            "text/plain": [
              "0.997604204624436"
            ]
          },
          "metadata": {},
          "execution_count": 95
        }
      ]
    },
    {
      "cell_type": "markdown",
      "source": [
        "## Multilevel linear Regression ##\n"
      ],
      "metadata": {
        "id": "X7gUIWxkz9OG"
      }
    },
    {
      "cell_type": "markdown",
      "source": [
        "## Load Data ##"
      ],
      "metadata": {
        "id": "Hhc84n5K0KvA"
      }
    },
    {
      "cell_type": "code",
      "source": [
        "MultipleLR = np.genfromtxt(\"MultipleLR.csv\",delimiter = \",\")\n",
        "x1_points = MultipleLR[:,0]\n",
        "x2_points = MultipleLR[:,1]\n",
        "x3_points = MultipleLR[:,2]\n",
        "y_points = MultipleLR[:,-1]\n",
        "print(MultipleLR)\n"
      ],
      "metadata": {
        "colab": {
          "base_uri": "https://localhost:8080/"
        },
        "id": "1kBHd4DGbROA",
        "outputId": "1ca12aff-c6b8-4d51-9463-ba8b57bb552d"
      },
      "execution_count": null,
      "outputs": [
        {
          "output_type": "stream",
          "name": "stdout",
          "text": [
            "[[ 73.  80.  75. 152.]\n",
            " [ 93.  88.  93. 185.]\n",
            " [ 89.  91.  90. 180.]\n",
            " [ 96.  98. 100. 196.]\n",
            " [ 73.  66.  70. 142.]\n",
            " [ 53.  46.  55. 101.]\n",
            " [ 69.  74.  77. 149.]\n",
            " [ 47.  56.  60. 115.]\n",
            " [ 87.  79.  90. 175.]\n",
            " [ 79.  70.  88. 164.]\n",
            " [ 69.  70.  73. 141.]\n",
            " [ 70.  65.  74. 141.]\n",
            " [ 93.  95.  91. 184.]\n",
            " [ 79.  80.  73. 152.]\n",
            " [ 70.  73.  78. 148.]\n",
            " [ 93.  89.  96. 192.]\n",
            " [ 78.  75.  68. 147.]\n",
            " [ 81.  90.  93. 183.]\n",
            " [ 88.  92.  86. 177.]\n",
            " [ 78.  83.  77. 159.]\n",
            " [ 82.  86.  90. 177.]\n",
            " [ 86.  82.  89. 175.]\n",
            " [ 78.  83.  85. 175.]\n",
            " [ 76.  83.  71. 149.]\n",
            " [ 96.  93.  95. 192.]]\n"
          ]
        }
      ]
    },
    {
      "cell_type": "code",
      "source": [
        "def multiLR_gradient(x1,x2,x3,y,learning_rate = 0.0001,Epoch = 150):\n",
        "  theta = np.array([0,0,0,0])\n",
        "  thetas = []\n",
        "  hypothesis ,costs= [],[]\n",
        "  X = np.hstack((np.ones((len(x1),1)),x1.reshape(len(x1),1),x2.reshape(len(x1),1),x3.reshape(len(x3),1)))\n",
        "  for i in range(Epoch):\n",
        "    #calculate hypothesis\n",
        "    y_hat = np.dot(X,theta)\n",
        "    hypothesis.append(y_hat)\n",
        "    #calculate error\n",
        "    e = y_hat - y\n",
        "    #calculate mean square error\n",
        "    cost = (1/(len(y)*2))* np.sum(np.dot(e,e))\n",
        "    costs.append(cost)\n",
        "    thetas.append(theta.reshape(X.shape[1]))\n",
        "    if(i>0 and np.abs(costs[i]-costs[i-1])<0.001):\n",
        "      print(\"stopped at iteration {}\".format(i))\n",
        "      break\n",
        "    #calculate gradients\n",
        "    gradient = np.dot(X.T,e)/len(y)\n",
        "    #update theta\n",
        "    theta = theta - learning_rate*gradient\n",
        "  return costs,hypothesis,thetas\n"
      ],
      "metadata": {
        "id": "vNsmA-IL0zUo"
      },
      "execution_count": null,
      "outputs": []
    },
    {
      "cell_type": "code",
      "source": [
        "costs_MLR,hypothesis_MLR,thetas_MLR = multiLR_gradient(x1_points,x2_points,x3_points,y_points)\n"
      ],
      "metadata": {
        "id": "0hXcPsjj6HNr"
      },
      "execution_count": null,
      "outputs": []
    },
    {
      "cell_type": "markdown",
      "source": [
        "## Scatter plot of Epoch vs Mean Square error ##"
      ],
      "metadata": {
        "id": "WZAv6WeI83gF"
      }
    },
    {
      "cell_type": "code",
      "source": [
        "plt.plot(costs_MLR)\n",
        "plt.xlabel(\"Iterations\");\n",
        "plt.ylabel(\"cost function\");\n",
        "plt.title(\"Cost function vs Epoch\");\n"
      ],
      "metadata": {
        "colab": {
          "base_uri": "https://localhost:8080/",
          "height": 295
        },
        "id": "Iw-3UpmM6bZu",
        "outputId": "99d9a1ef-730b-49a5-bd06-129ecb59bd6e"
      },
      "execution_count": null,
      "outputs": [
        {
          "output_type": "display_data",
          "data": {
            "image/png": "[encoded data removed]",
            "text/plain": [
              "<Figure size 432x288 with 1 Axes>"
            ]
          },
          "metadata": {
            "needs_background": "light"
          }
        }
      ]
    },
    {
      "cell_type": "markdown",
      "source": [
        "## Scatter plot of theta0 vs Cost ##"
      ],
      "metadata": {
        "id": "F6bO3G-59E_H"
      }
    },
    {
      "cell_type": "code",
      "source": [
        "#plt.plot(thetas_MLR[:,0],costs_MLR)\n",
        "plt.xlabel(\"Theta0\")\n",
        "plt.ylabel(\"cost function\")\n",
        "plt.title(\"Cost function vs theta0\");"
      ],
      "metadata": {
        "colab": {
          "base_uri": "https://localhost:8080/",
          "height": 295
        },
        "id": "radnXJ0w6cY8",
        "outputId": "3c79528e-bf61-4721-bec6-f26fda1c707c"
      },
      "execution_count": null,
      "outputs": [
        {
          "output_type": "display_data",
          "data": {
            "image/png": "[encoded data removed]",
            "text/plain": [
              "<Figure size 432x288 with 1 Axes>"
            ]
          },
          "metadata": {
            "needs_background": "light"
          }
        }
      ]
    }
  ]
}